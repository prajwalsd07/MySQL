{
 "cells": [
  {
   "cell_type": "markdown",
   "id": "bef125e2",
   "metadata": {},
   "source": [
    "# Creating Movies Table and retrieve data based on actor's"
   ]
  },
  {
   "cell_type": "markdown",
   "id": "d079fdf5",
   "metadata": {},
   "source": [
    "### Create database \"Mulesoft\""
   ]
  },
  {
   "cell_type": "code",
   "execution_count": null,
   "id": "4917db27",
   "metadata": {},
   "outputs": [],
   "source": [
    "import mysql.connector\n",
    "\n",
    "mydb = mysql.connector.connect(\n",
    "  host=\"localhost\",\n",
    "  user=\"prajwalsd\",\n",
    "  password=\"1230005678\"\n",
    ")\n",
    "\n",
    "mycursor = mydb.cursor()\n",
    "\n",
    "mycursor.execute(\"CREATE DATABASE Mulesoft\")"
   ]
  },
  {
   "cell_type": "markdown",
   "id": "82909134",
   "metadata": {},
   "source": [
    "### Create Table \"Movies\""
   ]
  },
  {
   "cell_type": "code",
   "execution_count": 35,
   "id": "5821caa7",
   "metadata": {},
   "outputs": [],
   "source": [
    "import mysql.connector\n",
    "\n",
    "mydb = mysql.connector.connect(\n",
    "      host=\"localhost\",\n",
    "      user=\"prajwalsd\",\n",
    "      password=\"1230005678\",\n",
    "      database=\"mulesoft\"\n",
    ")\n",
    "mycursor = mydb.cursor()\n",
    "mycursor.execute(\"CREATE TABLE Movies (name VARCHAR(150), actor VARCHAR(150), actress VARCHAR(150),director VARCHAR(150),release_year INT)\")"
   ]
  },
  {
   "cell_type": "markdown",
   "id": "c9c86bdb",
   "metadata": {},
   "source": [
    "### Insert Data into Table"
   ]
  },
  {
   "cell_type": "code",
   "execution_count": 42,
   "id": "dd0f8f11",
   "metadata": {},
   "outputs": [
    {
     "name": "stdout",
     "output_type": "stream",
     "text": [
      "8 record inserted.\n"
     ]
    }
   ],
   "source": [
    "sql = \"INSERT INTO Movies (name, actor, actress, director,release_year) VALUES (%s,%s,%s,%s,%s )\"\n",
    "val = [(\"Love Mocktail\", \"Darling Krishna\", \"Milana Nagaraj\",\"Darling Krishna\",2020),\n",
    "       (\"Googly\", \"Yash\", \"Kriti Karabanda\",\"Pawan Wadeyar\",2013),\n",
    "       (\"KGF\", \"YASH\", \"Srinidhi Shetty\",\"Prashanth Neel\",2018),\n",
    "       (\"Ramachari\", \"Yash\", \"Radhika Pandit\",\"Santhosh Ananddram\",2014),\n",
    "       (\"Ratchasan\", \"Vishnu Vishal\", \"Amala Paul\",\"Ram Kumar\",2018),\n",
    "       (\"Kirathaka\", \"Yash\", \"Oviya\",\"Pradeep Raj\",2011),\n",
    "       (\"Kotigobba2\", \"Sudeep\", \"Nithya Menen\",\"K.S.Ravikumar\",2016),\n",
    "       (\"Raajakumara\", \"Puneeth\", \"Priya\",\"Santhosh Ananddram\",2017)\n",
    "      ]\n",
    "mycursor.executemany(sql, val)\n",
    "\n",
    "mydb.commit()\n",
    "\n",
    "print(mycursor.rowcount, \"record inserted.\")"
   ]
  },
  {
   "cell_type": "markdown",
   "id": "a2c18b4c",
   "metadata": {},
   "source": [
    "### Print all Rows"
   ]
  },
  {
   "cell_type": "code",
   "execution_count": 55,
   "id": "22c14580",
   "metadata": {},
   "outputs": [
    {
     "name": "stdout",
     "output_type": "stream",
     "text": [
      "('Love Mocktail', 'Darling Krishna', 'Milana Nagaraj', 'Darling Krishna', 2020)\n",
      "('Googly', 'Yash', 'Kriti Karabanda', 'Pawan Wadeyar', 2013)\n",
      "('KGF', 'YASH', 'Srinidhi Shetty', 'Prashanth Neel', 2018)\n",
      "('Ramachari', 'Yash', 'Radhika Pandit', 'Santhosh Ananddram', 2014)\n",
      "('Ratchasan', 'Vishnu Vishal', 'Amala Paul', 'Ram Kumar', 2018)\n",
      "('Kirathaka', 'Yash', 'Oviya', 'Pradeep Raj', 2011)\n",
      "('Kotigobba2', 'Sudeep', 'Nithya Menen', 'K.S.Ravikumar', 2016)\n",
      "('Raajakumara', 'Puneeth', 'Priya', 'Santhosh Ananddram', 2017)\n"
     ]
    }
   ],
   "source": [
    "mycursor.execute(\"SELECT * FROM Movies\")\n",
    "\n",
    "myresult = mycursor.fetchall()\n",
    "\n",
    "for x in myresult:\n",
    "  print(x)"
   ]
  },
  {
   "cell_type": "markdown",
   "id": "d9a68185",
   "metadata": {},
   "source": [
    "### Print Movie name with actor \"Yash\""
   ]
  },
  {
   "cell_type": "code",
   "execution_count": 57,
   "id": "6c051e29",
   "metadata": {},
   "outputs": [
    {
     "name": "stdout",
     "output_type": "stream",
     "text": [
      "('Googly',)\n",
      "('KGF',)\n",
      "('Ramachari',)\n",
      "('Kirathaka',)\n"
     ]
    }
   ],
   "source": [
    "mycursor.execute(\"SELECT name FROM Movies where actor = 'Yash'\")\n",
    "\n",
    "myresult = mycursor.fetchall()\n",
    "\n",
    "for x in myresult:\n",
    "  print(x)"
   ]
  },
  {
   "cell_type": "markdown",
   "id": "b524825f",
   "metadata": {},
   "source": [
    "### Print Movie name with actor \"Puneeth\""
   ]
  },
  {
   "cell_type": "code",
   "execution_count": 59,
   "id": "e8cb5240",
   "metadata": {},
   "outputs": [
    {
     "name": "stdout",
     "output_type": "stream",
     "text": [
      "('Raajakumara',)\n"
     ]
    }
   ],
   "source": [
    "mycursor.execute(\"SELECT name FROM Movies where actor = 'Puneeth'\")\n",
    "\n",
    "myresult = mycursor.fetchall()\n",
    "\n",
    "for x in myresult:\n",
    "  print(x)"
   ]
  }
 ],
 "metadata": {
  "kernelspec": {
   "display_name": "Python 3 (ipykernel)",
   "language": "python",
   "name": "python3"
  },
  "language_info": {
   "codemirror_mode": {
    "name": "ipython",
    "version": 3
   },
   "file_extension": ".py",
   "mimetype": "text/x-python",
   "name": "python",
   "nbconvert_exporter": "python",
   "pygments_lexer": "ipython3",
   "version": "3.8.8"
  }
 },
 "nbformat": 4,
 "nbformat_minor": 5
}
